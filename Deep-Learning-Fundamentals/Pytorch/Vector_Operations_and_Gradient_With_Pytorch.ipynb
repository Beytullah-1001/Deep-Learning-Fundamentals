{
  "nbformat": 4,
  "nbformat_minor": 0,
  "metadata": {
    "colab": {
      "name": "Vector Operations and Gradient With Pytorch.ipynb",
      "provenance": [],
      "authorship_tag": "ABX9TyOs5BGMMqlRLTvLXSjHYTpX",
      "include_colab_link": true
    },
    "kernelspec": {
      "name": "python3",
      "display_name": "Python 3"
    },
    "language_info": {
      "name": "python"
    }
  },
  "cells": [
    {
      "cell_type": "markdown",
      "metadata": {
        "id": "view-in-github",
        "colab_type": "text"
      },
      "source": [
        "<a href=\"https://colab.research.google.com/github/Beytullah-1001/Deep-Learning-Fundamentals/blob/main/Deep-Learning-Fundamentals/Pytorch/Vector_Operations_and_Gradient_With_Pytorch.ipynb\" target=\"_parent\"><img src=\"https://colab.research.google.com/assets/colab-badge.svg\" alt=\"Open In Colab\"/></a>"
      ]
    },
    {
      "cell_type": "code",
      "execution_count": 2,
      "metadata": {
        "colab": {
          "base_uri": "https://localhost:8080/"
        },
        "id": "XqOo9wPxVii0",
        "outputId": "57f78873-b908-44e6-b5c7-548fc9bf9beb"
      },
      "outputs": [
        {
          "output_type": "stream",
          "name": "stdout",
          "text": [
            "Requirement already satisfied: torch in /usr/local/lib/python3.7/dist-packages (1.11.0+cu113)\n",
            "Requirement already satisfied: typing-extensions in /usr/local/lib/python3.7/dist-packages (from torch) (4.2.0)\n"
          ]
        }
      ],
      "source": [
        "!pip install torch"
      ]
    },
    {
      "cell_type": "code",
      "source": [
        "import torch\n",
        "import numpy as np\n",
        "import matplotlib.pyplot as plt\n"
      ],
      "metadata": {
        "id": "8aZtZu3WVnoJ"
      },
      "execution_count": 3,
      "outputs": []
    },
    {
      "cell_type": "code",
      "source": [
        "tensor_x=torch.tensor([1,2,3,4,5,6])\n",
        "tensor_y=torch.tensor([2,3,123,1,2,3])\n",
        "\n",
        "multiplied_tensor=tensor_x*tensor_y#Multiply operation\n",
        "multiplied_tensor"
      ],
      "metadata": {
        "colab": {
          "base_uri": "https://localhost:8080/"
        },
        "id": "QFhYl82bV2xr",
        "outputId": "d995eadf-052b-495c-894d-2f900b29db01"
      },
      "execution_count": 7,
      "outputs": [
        {
          "output_type": "execute_result",
          "data": {
            "text/plain": [
              "tensor([  2,   6, 369,   4,  10,  18])"
            ]
          },
          "metadata": {},
          "execution_count": 7
        }
      ]
    },
    {
      "cell_type": "code",
      "source": [
        "dotted_tensor=torch.dot(tensor_x,tensor_y)#Dot operation\n",
        "dotted_tensor"
      ],
      "metadata": {
        "colab": {
          "base_uri": "https://localhost:8080/"
        },
        "id": "OGeeFJEFV28K",
        "outputId": "2544de44-97e7-4856-8526-6a9c244dd921"
      },
      "execution_count": 9,
      "outputs": [
        {
          "output_type": "execute_result",
          "data": {
            "text/plain": [
              "tensor(409)"
            ]
          },
          "metadata": {},
          "execution_count": 9
        }
      ]
    },
    {
      "cell_type": "code",
      "source": [
        "x_tensor=torch.linspace(0,20,10)#Starts from 0, end at 10,ends in 3 step \n",
        "y_tensor=torch.exp(x_tensor)\n",
        "plt.plot(x_tensor.numpy(),y_tensor.numpy());"
      ],
      "metadata": {
        "colab": {
          "base_uri": "https://localhost:8080/",
          "height": 276
        },
        "id": "tge18ULFW0ZL",
        "outputId": "791c0b14-754c-4aa9-baec-07c70d52f85c"
      },
      "execution_count": 26,
      "outputs": [
        {
          "output_type": "display_data",
          "data": {
            "text/plain": [
              "<Figure size 432x288 with 1 Axes>"
            ],
            "image/png": "[encoded data removed]"
          },
          "metadata": {
            "needs_background": "light"
          }
        }
      ]
    },
    {
      "cell_type": "markdown",
      "source": [
        "## Dimensional Tensors\n"
      ],
      "metadata": {
        "id": "bJ5bRUt_ZLVD"
      }
    },
    {
      "cell_type": "code",
      "source": [
        "tensor=torch.arange(0,52,3)\n",
        "tensor"
      ],
      "metadata": {
        "colab": {
          "base_uri": "https://localhost:8080/"
        },
        "id": "EncxLYNAZQW9",
        "outputId": "df134cb3-c9fd-43f6-9222-806ea100024b"
      },
      "execution_count": 19,
      "outputs": [
        {
          "output_type": "execute_result",
          "data": {
            "text/plain": [
              "tensor([ 0,  3,  6,  9, 12, 15, 18, 21, 24, 27, 30, 33, 36, 39, 42, 45, 48, 51])"
            ]
          },
          "metadata": {},
          "execution_count": 19
        }
      ]
    },
    {
      "cell_type": "code",
      "source": [
        "reshaped_2d_tensor=tensor.view(6,3)#6 row 3 col\n",
        "reshaped_2d_tensor"
      ],
      "metadata": {
        "colab": {
          "base_uri": "https://localhost:8080/"
        },
        "id": "rvysOmrLZhL9",
        "outputId": "0be992ca-9587-4379-af8c-8ef211d3f207"
      },
      "execution_count": 23,
      "outputs": [
        {
          "output_type": "execute_result",
          "data": {
            "text/plain": [
              "tensor([[ 0,  3,  6],\n",
              "        [ 9, 12, 15],\n",
              "        [18, 21, 24],\n",
              "        [27, 30, 33],\n",
              "        [36, 39, 42],\n",
              "        [45, 48, 51]])"
            ]
          },
          "metadata": {},
          "execution_count": 23
        }
      ]
    },
    {
      "cell_type": "code",
      "source": [
        "reshaped_3d_tensor=tensor.view(2,3,3)\n",
        "reshaped_3d_tensor"
      ],
      "metadata": {
        "colab": {
          "base_uri": "https://localhost:8080/"
        },
        "id": "VTbYPc4AZ7Fd",
        "outputId": "e874e074-a10d-46fa-e47d-970c240331f8"
      },
      "execution_count": 25,
      "outputs": [
        {
          "output_type": "execute_result",
          "data": {
            "text/plain": [
              "tensor([[[ 0,  3,  6],\n",
              "         [ 9, 12, 15],\n",
              "         [18, 21, 24]],\n",
              "\n",
              "        [[27, 30, 33],\n",
              "         [36, 39, 42],\n",
              "         [45, 48, 51]]])"
            ]
          },
          "metadata": {},
          "execution_count": 25
        }
      ]
    },
    {
      "cell_type": "code",
      "source": [
        "reshaped_3d_tensor[0,0,2]#We expect that writing 6"
      ],
      "metadata": {
        "colab": {
          "base_uri": "https://localhost:8080/"
        },
        "id": "WzhPczNhZ7el",
        "outputId": "7dedbef6-5f71-4d36-bb1f-438d0d4e4e11"
      },
      "execution_count": 27,
      "outputs": [
        {
          "output_type": "execute_result",
          "data": {
            "text/plain": [
              "tensor(6)"
            ]
          },
          "metadata": {},
          "execution_count": 27
        }
      ]
    },
    {
      "cell_type": "code",
      "source": [
        "reshaped_3d_tensor[0,0:2,:]"
      ],
      "metadata": {
        "colab": {
          "base_uri": "https://localhost:8080/"
        },
        "id": "8XBwrlGxbZIT",
        "outputId": "19631f7f-2e4a-431c-afd7-2c06a451e3ce"
      },
      "execution_count": 28,
      "outputs": [
        {
          "output_type": "execute_result",
          "data": {
            "text/plain": [
              "tensor([[ 0,  3,  6],\n",
              "        [ 9, 12, 15]])"
            ]
          },
          "metadata": {},
          "execution_count": 28
        }
      ]
    },
    {
      "cell_type": "markdown",
      "source": [
        "## Gradient With Pytorch\n",
        "\n"
      ],
      "metadata": {
        "id": "ZPlMKAiSdYV9"
      }
    },
    {
      "cell_type": "code",
      "source": [
        "x=torch.tensor(1.0,requires_grad=True)\n",
        "z=torch.tensor(2.0,requires_grad=True)\n",
        "\n",
        "y=x**2+z**3"
      ],
      "metadata": {
        "id": "uAwQA5UXdeWW"
      },
      "execution_count": 29,
      "outputs": []
    },
    {
      "cell_type": "code",
      "source": [
        "\n",
        "x.grad"
      ],
      "metadata": {
        "colab": {
          "base_uri": "https://localhost:8080/"
        },
        "id": "sW5G_tJjd4ny",
        "outputId": "f9d5555a-9a60-4a6f-e899-5926d4f67d54"
      },
      "execution_count": 33,
      "outputs": [
        {
          "output_type": "execute_result",
          "data": {
            "text/plain": [
              "tensor(2.)"
            ]
          },
          "metadata": {},
          "execution_count": 33
        }
      ]
    },
    {
      "cell_type": "code",
      "source": [
        "z.grad"
      ],
      "metadata": {
        "colab": {
          "base_uri": "https://localhost:8080/"
        },
        "id": "2lGsIf1veMYB",
        "outputId": "103f8b4e-25c6-4d58-b204-58b7402cadd2"
      },
      "execution_count": 34,
      "outputs": [
        {
          "output_type": "execute_result",
          "data": {
            "text/plain": [
              "tensor(12.)"
            ]
          },
          "metadata": {},
          "execution_count": 34
        }
      ]
    }
  ]
}