{
  "nbformat": 4,
  "nbformat_minor": 0,
  "metadata": {
    "colab": {
      "name": "Linear Model With Pytorch.ipynb",
      "provenance": [],
      "collapsed_sections": [],
      "authorship_tag": "ABX9TyObD2njoGGL3BY9Tku7t+6t",
      "include_colab_link": true
    },
    "kernelspec": {
      "name": "python3",
      "display_name": "Python 3"
    },
    "language_info": {
      "name": "python"
    }
  },
  "cells": [
    {
      "cell_type": "markdown",
      "metadata": {
        "id": "view-in-github",
        "colab_type": "text"
      },
      "source": [
        "<a href=\"https://colab.research.google.com/github/Beytullah-1001/Deep-Learning-Fundamentals/blob/main/Linear_Model_With_Pytorch.ipynb\" target=\"_parent\"><img src=\"https://colab.research.google.com/assets/colab-badge.svg\" alt=\"Open In Colab\"/></a>"
      ]
    },
    {
      "cell_type": "code",
      "execution_count": 1,
      "metadata": {
        "id": "GprvypeqofST"
      },
      "outputs": [],
      "source": [
        "import torch\n",
        "import matplotlib.pyplot as plt\n"
      ]
    },
    {
      "cell_type": "code",
      "source": [
        "X=torch.randn(100,1)*10\n",
        "y=X+torch.randn(100,1)#We're adding some noise our data by adding somde radom values\n",
        "plt.plot(X.numpy(),y.numpy(),'o')\n",
        "plt.xlabel(\"X\")\n",
        "plt.ylabel(\"Y\")"
      ],
      "metadata": {
        "colab": {
          "base_uri": "https://localhost:8080/",
          "height": 296
        },
        "id": "q4hOSO3J2EBw",
        "outputId": "7fb182a6-295e-4d60-9974-a537c26acf4b"
      },
      "execution_count": 2,
      "outputs": [
        {
          "output_type": "execute_result",
          "data": {
            "text/plain": [
              "Text(0, 0.5, 'Y')"
            ]
          },
          "metadata": {},
          "execution_count": 2
        },
        {
          "output_type": "display_data",
          "data": {
            "text/plain": [
              "<Figure size 432x288 with 1 Axes>"
            ],
            "image/png": "[encoded data removed]"
          },
          "metadata": {
            "needs_background": "light"
          }
        }
      ]
    },
    {
      "cell_type": "code",
      "source": [
        "#y=wx+b\n",
        "w=torch.tensor(3.0,requires_grad=True)\n",
        "b=torch.tensor(1.0,requires_grad=True)\n",
        "\n"
      ],
      "metadata": {
        "id": "nrohcp8Po8uU"
      },
      "execution_count": 3,
      "outputs": []
    },
    {
      "cell_type": "code",
      "source": [
        "def forward(x):\n",
        "  y=w*x+b\n",
        "  return y"
      ],
      "metadata": {
        "id": "EtT4nxzApWMg"
      },
      "execution_count": 4,
      "outputs": []
    },
    {
      "cell_type": "code",
      "source": [
        "X=torch.tensor(5)\n",
        "forward(X)"
      ],
      "metadata": {
        "colab": {
          "base_uri": "https://localhost:8080/"
        },
        "id": "l98pkOWno801",
        "outputId": "a874759c-a7fe-49c9-8cec-9f910e4c191b"
      },
      "execution_count": 5,
      "outputs": [
        {
          "output_type": "execute_result",
          "data": {
            "text/plain": [
              "tensor(16., grad_fn=<AddBackward0>)"
            ]
          },
          "metadata": {},
          "execution_count": 5
        }
      ]
    },
    {
      "cell_type": "code",
      "source": [
        "X=torch.tensor([[5],[7]])\n",
        "forward(X)"
      ],
      "metadata": {
        "colab": {
          "base_uri": "https://localhost:8080/"
        },
        "id": "EKrH4-Ycprgy",
        "outputId": "65d83dba-7f77-42ea-a677-b8e910031839"
      },
      "execution_count": 6,
      "outputs": [
        {
          "output_type": "execute_result",
          "data": {
            "text/plain": [
              "tensor([[16.],\n",
              "        [22.]], grad_fn=<AddBackward0>)"
            ]
          },
          "metadata": {},
          "execution_count": 6
        }
      ]
    },
    {
      "cell_type": "code",
      "source": [
        "from torch.nn import Linear"
      ],
      "metadata": {
        "id": "giobkDNSp_7m"
      },
      "execution_count": 7,
      "outputs": []
    },
    {
      "cell_type": "code",
      "source": [
        "torch.manual_seed(1)\n",
        "model=Linear(in_features=1,out_features=1)\n",
        "print(model.bias,model.weight)"
      ],
      "metadata": {
        "colab": {
          "base_uri": "https://localhost:8080/"
        },
        "id": "SlXVleVQp_9l",
        "outputId": "7e5ee323-3103-4d65-b7f3-898fc9b1d0f8"
      },
      "execution_count": 8,
      "outputs": [
        {
          "output_type": "stream",
          "name": "stdout",
          "text": [
            "Parameter containing:\n",
            "tensor([-0.4414], requires_grad=True) Parameter containing:\n",
            "tensor([[0.5153]], requires_grad=True)\n"
          ]
        }
      ]
    },
    {
      "cell_type": "code",
      "source": [
        "x=torch.tensor([[0.5],[1.0],[3.2]])\n",
        "prediction=model(x)\n",
        "prediction"
      ],
      "metadata": {
        "colab": {
          "base_uri": "https://localhost:8080/"
        },
        "id": "QfdC7fBeq-O-",
        "outputId": "a45219b4-a80b-491a-e290-526125f32cd4"
      },
      "execution_count": 9,
      "outputs": [
        {
          "output_type": "execute_result",
          "data": {
            "text/plain": [
              "tensor([[-0.1837],\n",
              "        [ 0.0739],\n",
              "        [ 1.2075]], grad_fn=<AddmmBackward0>)"
            ]
          },
          "metadata": {},
          "execution_count": 9
        }
      ]
    },
    {
      "cell_type": "code",
      "source": [
        ""
      ],
      "metadata": {
        "id": "JGK8EuyZq-Rb"
      },
      "execution_count": 9,
      "outputs": []
    },
    {
      "cell_type": "markdown",
      "source": [
        "## Creating Custom Modules"
      ],
      "metadata": {
        "id": "yIlCa8RQw_5Q"
      }
    },
    {
      "cell_type": "code",
      "source": [
        "import torch.nn as nn\n",
        "class LM(nn.Module):#Our linear model class extends from nn\n",
        "  def __init__(self,input_size,output_size):#Constructor for our LM class\n",
        "    super().__init__ ()\n",
        "    self.linear=nn.Linear(input_size,output_size)\n",
        "  def forward(self,x):\n",
        "    preds=self.linear(x)\n",
        "    return preds\n",
        "\n"
      ],
      "metadata": {
        "id": "QgNMyYFDxEu2"
      },
      "execution_count": 10,
      "outputs": []
    },
    {
      "cell_type": "code",
      "source": [
        "X=torch.tensor([4.0])\n",
        "torch.manual_seed(1)\n",
        "my_linear_model=LM(1,1)\n",
        "print(\"-------------Weights and biases--------------------\")\n",
        "print(list(my_linear_model.parameters()))\n",
        "print(\"-------------Prediction----------------------------\")\n",
        "print(my_linear_model.forward(X))\n",
        "#We can see that our bias and weight"
      ],
      "metadata": {
        "colab": {
          "base_uri": "https://localhost:8080/"
        },
        "id": "VlXTXniNyDZC",
        "outputId": "0b61415c-4e17-48cc-a148-4ba147557492"
      },
      "execution_count": 11,
      "outputs": [
        {
          "output_type": "stream",
          "name": "stdout",
          "text": [
            "-------------Weights and biases--------------------\n",
            "[Parameter containing:\n",
            "tensor([[0.5153]], requires_grad=True), Parameter containing:\n",
            "tensor([-0.4414], requires_grad=True)]\n",
            "-------------Prediction----------------------------\n",
            "tensor([1.6197], grad_fn=<AddBackward0>)\n"
          ]
        }
      ]
    },
    {
      "cell_type": "code",
      "source": [
        "[w,b]=my_linear_model.parameters()\n",
        "print(w)\n",
        "print(b)\n",
        "#def get_parameters():\n",
        " # return my_linear_model.\n"
      ],
      "metadata": {
        "colab": {
          "base_uri": "https://localhost:8080/"
        },
        "id": "7UCcvScF13dJ",
        "outputId": "da709115-8463-4fb6-95de-9aa2f7ebc04c"
      },
      "execution_count": 12,
      "outputs": [
        {
          "output_type": "stream",
          "name": "stdout",
          "text": [
            "Parameter containing:\n",
            "tensor([[0.5153]], requires_grad=True)\n",
            "Parameter containing:\n",
            "tensor([-0.4414], requires_grad=True)\n"
          ]
        }
      ]
    },
    {
      "cell_type": "code",
      "source": [
        "\n",
        "def get_parameters():\n",
        "  return (w[0][0].item(),b[0].item())  "
      ],
      "metadata": {
        "id": "hDTH7Nfw4a3c"
      },
      "execution_count": 13,
      "outputs": []
    },
    {
      "cell_type": "code",
      "source": [
        "import numpy as np\n",
        "X=torch.randn(100,1)*10\n",
        "y=X+torch.randn(100,1)#We're adding some noise our data by adding somde radom values"
      ],
      "metadata": {
        "id": "FSPTjoNI4bHx"
      },
      "execution_count": 14,
      "outputs": []
    },
    {
      "cell_type": "code",
      "source": [
        "def plot_fit(title):\n",
        "  plt.title(title)\n",
        "  w1,b1=get_parameters()\n",
        "  x1=np.array([-30,30])\n",
        "  y1=w1*x1+b1\n",
        "  plt.plot(x1,y1,'r')\n",
        "  plt.scatter(X.numpy(),y.numpy())\n",
        "  plt.show()"
      ],
      "metadata": {
        "id": "11n-52Bn5Kuw"
      },
      "execution_count": 15,
      "outputs": []
    },
    {
      "cell_type": "code",
      "source": [
        "plot_fit(\"Initial Model\")"
      ],
      "metadata": {
        "colab": {
          "base_uri": "https://localhost:8080/",
          "height": 281
        },
        "id": "jFKRT7-D53Kg",
        "outputId": "71e41114-4d00-4f87-ed7e-8f527747505f"
      },
      "execution_count": 16,
      "outputs": [
        {
          "output_type": "display_data",
          "data": {
            "text/plain": [
              "<Figure size 432x288 with 1 Axes>"
            ],
            "image/png": "[encoded data removed]"
          },
          "metadata": {
            "needs_background": "light"
          }
        }
      ]
    },
    {
      "cell_type": "markdown",
      "source": [
        "As we can see above the red line is not the best fitted line to our data points. Therefore we should use gradient descent to adjust our weighs"
      ],
      "metadata": {
        "id": "2bDHXDI57EHS"
      }
    },
    {
      "cell_type": "markdown",
      "source": [
        "## Training Model"
      ],
      "metadata": {
        "id": "Z6Yrm-PTBacu"
      }
    },
    {
      "cell_type": "code",
      "source": [
        "criterion=nn.MSELoss()#Our loss function. For now we will use Mean Squared Error Loss Function \n",
        "optimizer=torch.optim.SGD(my_linear_model.parameters(),lr=0.01)#We'll use Stochastic Gradient Descent to train our model"
      ],
      "metadata": {
        "id": "gsGHZ2GBBdYM"
      },
      "execution_count": 17,
      "outputs": []
    },
    {
      "cell_type": "code",
      "source": [
        "epochs=100\n",
        "losses=[]#We create losses list to save our loss values at the end of each epoch "
      ],
      "metadata": {
        "id": "y6DEcUUgCS0J"
      },
      "execution_count": 18,
      "outputs": []
    },
    {
      "cell_type": "code",
      "source": [
        "for i in range(epochs):\n",
        "  y_pred=my_linear_model.forward(X)\n",
        "  loss=criterion(y_pred,y)#Calculate loss for each iteration\n",
        "  print(\"Epoch:\",i, \" loss:\",loss.item())\n",
        "  losses.append(loss)\n",
        "\n",
        "  loss.backward()\n",
        "  optimizer.step()\n"
      ],
      "metadata": {
        "colab": {
          "base_uri": "https://localhost:8080/"
        },
        "id": "ygcpTRxeCqaM",
        "outputId": "2bbf7a7f-1a85-4b52-d65d-7538768b8708"
      },
      "execution_count": 28,
      "outputs": [
        {
          "output_type": "stream",
          "name": "stdout",
          "text": [
            "Epoch: 0  loss: 21.578208923339844\n",
            "Epoch: 1  loss: 38.411720275878906\n",
            "Epoch: 2  loss: 15.188231468200684\n",
            "Epoch: 3  loss: 44.421714782714844\n",
            "Epoch: 4  loss: 9.609909057617188\n",
            "Epoch: 5  loss: 49.38129806518555\n",
            "Epoch: 6  loss: 5.205082416534424\n",
            "Epoch: 7  loss: 52.983158111572266\n",
            "Epoch: 8  loss: 2.2656400203704834\n",
            "Epoch: 9  loss: 55.00985336303711\n",
            "Epoch: 10  loss: 0.9916938543319702\n",
            "Epoch: 11  loss: 55.34410095214844\n",
            "Epoch: 12  loss: 1.4748218059539795\n",
            "Epoch: 13  loss: 53.972503662109375\n",
            "Epoch: 14  loss: 3.6891095638275146\n",
            "Epoch: 15  loss: 50.98399353027344\n",
            "Epoch: 16  loss: 7.491288661956787\n",
            "Epoch: 17  loss: 46.563743591308594\n",
            "Epoch: 18  loss: 12.630523681640625\n",
            "Epoch: 19  loss: 40.98301696777344\n",
            "Epoch: 20  loss: 18.76697540283203\n",
            "Epoch: 21  loss: 34.58502960205078\n",
            "Epoch: 22  loss: 25.49712371826172\n",
            "Epoch: 23  loss: 27.767074584960938\n",
            "Epoch: 24  loss: 32.38326644897461\n",
            "Epoch: 25  loss: 20.95842742919922\n",
            "Epoch: 26  loss: 38.98408889770508\n",
            "Epoch: 27  loss: 14.594603538513184\n",
            "Epoch: 28  loss: 44.88340759277344\n",
            "Epoch: 29  loss: 9.089204788208008\n",
            "Epoch: 30  loss: 49.7152099609375\n",
            "Epoch: 31  loss: 4.805232048034668\n",
            "Epoch: 32  loss: 53.18399429321289\n",
            "Epoch: 33  loss: 2.0282349586486816\n",
            "Epoch: 34  loss: 55.07963943481445\n",
            "Epoch: 35  loss: 0.9443234205245972\n",
            "Epoch: 36  loss: 55.287445068359375\n",
            "Epoch: 37  loss: 1.6255288124084473\n",
            "Epoch: 38  loss: 53.793609619140625\n",
            "Epoch: 39  loss: 4.024342060089111\n",
            "Epoch: 40  loss: 50.68613815307617\n",
            "Epoch: 41  loss: 7.9779815673828125\n",
            "Epoch: 42  loss: 46.15163040161133\n",
            "Epoch: 43  loss: 13.221785545349121\n",
            "Epoch: 44  loss: 40.466732025146484\n",
            "Epoch: 45  loss: 19.409921646118164\n",
            "Epoch: 46  loss: 33.9845085144043\n",
            "Epoch: 47  loss: 26.140880584716797\n",
            "Epoch: 48  loss: 27.114707946777344\n",
            "Epoch: 49  loss: 32.98530197143555\n",
            "Epoch: 50  loss: 20.2988224029541\n",
            "Epoch: 51  loss: 39.5132942199707\n",
            "Epoch: 52  loss: 13.980830192565918\n",
            "Epoch: 53  loss: 45.31990051269531\n",
            "Epoch: 54  loss: 8.576066017150879\n",
            "Epoch: 55  loss: 50.04737854003906\n",
            "Epoch: 56  loss: 4.440939426422119\n",
            "Epoch: 57  loss: 53.404197692871094\n",
            "Epoch: 58  loss: 1.8465937376022339\n",
            "Epoch: 59  loss: 55.180599212646484\n",
            "Epoch: 60  loss: 0.959362804889679\n",
            "Epoch: 61  loss: 55.26063919067383\n",
            "Epoch: 62  loss: 1.829841136932373\n",
            "Epoch: 63  loss: 53.63042449951172\n",
            "Epoch: 64  loss: 4.391531467437744\n",
            "Epoch: 65  loss: 50.381622314453125\n",
            "Epoch: 66  loss: 8.468459129333496\n",
            "Epoch: 67  loss: 45.709442138671875\n",
            "Epoch: 68  loss: 13.790225982666016\n",
            "Epoch: 69  loss: 39.9037971496582\n",
            "Epoch: 70  loss: 20.012453079223633\n",
            "Epoch: 71  loss: 33.33338165283203\n",
            "Epoch: 72  loss: 26.740243911743164\n",
            "Epoch: 73  loss: 26.42247772216797\n",
            "Epoch: 74  loss: 33.552860260009766\n",
            "Epoch: 75  loss: 19.6224422454834\n",
            "Epoch: 76  loss: 40.02789306640625\n",
            "Epoch: 77  loss: 13.379578590393066\n",
            "Epoch: 78  loss: 45.764652252197266\n",
            "Epoch: 79  loss: 8.102799415588379\n",
            "Epoch: 80  loss: 50.405845642089844\n",
            "Epoch: 81  loss: 4.1342573165893555\n",
            "Epoch: 82  loss: 53.65778350830078\n",
            "Epoch: 83  loss: 1.7258305549621582\n",
            "Epoch: 84  loss: 55.308433532714844\n",
            "Epoch: 85  loss: 1.0234100818634033\n",
            "Epoch: 86  loss: 55.24235916137695\n",
            "Epoch: 87  loss: 2.059927463531494\n",
            "Epoch: 88  loss: 53.45115280151367\n",
            "Epoch: 89  loss: 4.756917953491211\n",
            "Epoch: 90  loss: 50.03791427612305\n",
            "Epoch: 91  loss: 8.93329906463623\n",
            "Epoch: 92  loss: 45.21400451660156\n",
            "Epoch: 93  loss: 14.3197021484375\n",
            "Epoch: 94  loss: 39.28754806518555\n",
            "Epoch: 95  loss: 20.576597213745117\n",
            "Epoch: 96  loss: 32.64362335205078\n",
            "Epoch: 97  loss: 27.314680099487305\n",
            "Epoch: 98  loss: 25.717449188232422\n",
            "Epoch: 99  loss: 34.1168098449707\n"
          ]
        }
      ]
    },
    {
      "cell_type": "code",
      "source": [
        ""
      ],
      "metadata": {
        "colab": {
          "base_uri": "https://localhost:8080/",
          "height": 599
        },
        "id": "5-ZSgXs1FfhQ",
        "outputId": "f9183b79-7a41-4ab5-fefa-799d2f3c5eb4"
      },
      "execution_count": 26,
      "outputs": [
        {
          "output_type": "error",
          "ename": "RuntimeError",
          "evalue": "ignored",
          "traceback": [
            "\u001b[0;31m---------------------------------------------------------------------------\u001b[0m",
            "\u001b[0;31mRuntimeError\u001b[0m                              Traceback (most recent call last)",
            "\u001b[0;32m<ipython-input-26-4ce72c832548>\u001b[0m in \u001b[0;36m<module>\u001b[0;34m()\u001b[0m\n\u001b[0;32m----> 1\u001b[0;31m \u001b[0mplt\u001b[0m\u001b[0;34m.\u001b[0m\u001b[0mplot\u001b[0m\u001b[0;34m(\u001b[0m\u001b[0mrange\u001b[0m\u001b[0;34m(\u001b[0m\u001b[0mepochs\u001b[0m\u001b[0;34m)\u001b[0m\u001b[0;34m,\u001b[0m\u001b[0mlosses\u001b[0m\u001b[0;34m)\u001b[0m\u001b[0;34m\u001b[0m\u001b[0;34m\u001b[0m\u001b[0m\n\u001b[0m",
            "\u001b[0;32m/usr/local/lib/python3.7/dist-packages/matplotlib/pyplot.py\u001b[0m in \u001b[0;36mplot\u001b[0;34m(scalex, scaley, data, *args, **kwargs)\u001b[0m\n\u001b[1;32m   2761\u001b[0m     return gca().plot(\n\u001b[1;32m   2762\u001b[0m         *args, scalex=scalex, scaley=scaley, **({\"data\": data} if data\n\u001b[0;32m-> 2763\u001b[0;31m         is not None else {}), **kwargs)\n\u001b[0m\u001b[1;32m   2764\u001b[0m \u001b[0;34m\u001b[0m\u001b[0m\n\u001b[1;32m   2765\u001b[0m \u001b[0;34m\u001b[0m\u001b[0m\n",
            "\u001b[0;32m/usr/local/lib/python3.7/dist-packages/matplotlib/axes/_axes.py\u001b[0m in \u001b[0;36mplot\u001b[0;34m(self, scalex, scaley, data, *args, **kwargs)\u001b[0m\n\u001b[1;32m   1645\u001b[0m         \"\"\"\n\u001b[1;32m   1646\u001b[0m         \u001b[0mkwargs\u001b[0m \u001b[0;34m=\u001b[0m \u001b[0mcbook\u001b[0m\u001b[0;34m.\u001b[0m\u001b[0mnormalize_kwargs\u001b[0m\u001b[0;34m(\u001b[0m\u001b[0mkwargs\u001b[0m\u001b[0;34m,\u001b[0m \u001b[0mmlines\u001b[0m\u001b[0;34m.\u001b[0m\u001b[0mLine2D\u001b[0m\u001b[0;34m)\u001b[0m\u001b[0;34m\u001b[0m\u001b[0;34m\u001b[0m\u001b[0m\n\u001b[0;32m-> 1647\u001b[0;31m         \u001b[0mlines\u001b[0m \u001b[0;34m=\u001b[0m \u001b[0;34m[\u001b[0m\u001b[0;34m*\u001b[0m\u001b[0mself\u001b[0m\u001b[0;34m.\u001b[0m\u001b[0m_get_lines\u001b[0m\u001b[0;34m(\u001b[0m\u001b[0;34m*\u001b[0m\u001b[0margs\u001b[0m\u001b[0;34m,\u001b[0m \u001b[0mdata\u001b[0m\u001b[0;34m=\u001b[0m\u001b[0mdata\u001b[0m\u001b[0;34m,\u001b[0m \u001b[0;34m**\u001b[0m\u001b[0mkwargs\u001b[0m\u001b[0;34m)\u001b[0m\u001b[0;34m]\u001b[0m\u001b[0;34m\u001b[0m\u001b[0;34m\u001b[0m\u001b[0m\n\u001b[0m\u001b[1;32m   1648\u001b[0m         \u001b[0;32mfor\u001b[0m \u001b[0mline\u001b[0m \u001b[0;32min\u001b[0m \u001b[0mlines\u001b[0m\u001b[0;34m:\u001b[0m\u001b[0;34m\u001b[0m\u001b[0;34m\u001b[0m\u001b[0m\n\u001b[1;32m   1649\u001b[0m             \u001b[0mself\u001b[0m\u001b[0;34m.\u001b[0m\u001b[0madd_line\u001b[0m\u001b[0;34m(\u001b[0m\u001b[0mline\u001b[0m\u001b[0;34m)\u001b[0m\u001b[0;34m\u001b[0m\u001b[0;34m\u001b[0m\u001b[0m\n",
            "\u001b[0;32m/usr/local/lib/python3.7/dist-packages/matplotlib/axes/_base.py\u001b[0m in \u001b[0;36m__call__\u001b[0;34m(self, *args, **kwargs)\u001b[0m\n\u001b[1;32m    214\u001b[0m                 \u001b[0mthis\u001b[0m \u001b[0;34m+=\u001b[0m \u001b[0margs\u001b[0m\u001b[0;34m[\u001b[0m\u001b[0;36m0\u001b[0m\u001b[0;34m]\u001b[0m\u001b[0;34m,\u001b[0m\u001b[0;34m\u001b[0m\u001b[0;34m\u001b[0m\u001b[0m\n\u001b[1;32m    215\u001b[0m                 \u001b[0margs\u001b[0m \u001b[0;34m=\u001b[0m \u001b[0margs\u001b[0m\u001b[0;34m[\u001b[0m\u001b[0;36m1\u001b[0m\u001b[0;34m:\u001b[0m\u001b[0;34m]\u001b[0m\u001b[0;34m\u001b[0m\u001b[0;34m\u001b[0m\u001b[0m\n\u001b[0;32m--> 216\u001b[0;31m             \u001b[0;32myield\u001b[0m \u001b[0;32mfrom\u001b[0m \u001b[0mself\u001b[0m\u001b[0;34m.\u001b[0m\u001b[0m_plot_args\u001b[0m\u001b[0;34m(\u001b[0m\u001b[0mthis\u001b[0m\u001b[0;34m,\u001b[0m \u001b[0mkwargs\u001b[0m\u001b[0;34m)\u001b[0m\u001b[0;34m\u001b[0m\u001b[0;34m\u001b[0m\u001b[0m\n\u001b[0m\u001b[1;32m    217\u001b[0m \u001b[0;34m\u001b[0m\u001b[0m\n\u001b[1;32m    218\u001b[0m     \u001b[0;32mdef\u001b[0m \u001b[0mget_next_color\u001b[0m\u001b[0;34m(\u001b[0m\u001b[0mself\u001b[0m\u001b[0;34m)\u001b[0m\u001b[0;34m:\u001b[0m\u001b[0;34m\u001b[0m\u001b[0;34m\u001b[0m\u001b[0m\n",
            "\u001b[0;32m/usr/local/lib/python3.7/dist-packages/matplotlib/axes/_base.py\u001b[0m in \u001b[0;36m_plot_args\u001b[0;34m(self, tup, kwargs)\u001b[0m\n\u001b[1;32m    330\u001b[0m         \u001b[0;32mif\u001b[0m \u001b[0mlen\u001b[0m\u001b[0;34m(\u001b[0m\u001b[0mtup\u001b[0m\u001b[0;34m)\u001b[0m \u001b[0;34m==\u001b[0m \u001b[0;36m2\u001b[0m\u001b[0;34m:\u001b[0m\u001b[0;34m\u001b[0m\u001b[0;34m\u001b[0m\u001b[0m\n\u001b[1;32m    331\u001b[0m             \u001b[0mx\u001b[0m \u001b[0;34m=\u001b[0m \u001b[0m_check_1d\u001b[0m\u001b[0;34m(\u001b[0m\u001b[0mtup\u001b[0m\u001b[0;34m[\u001b[0m\u001b[0;36m0\u001b[0m\u001b[0;34m]\u001b[0m\u001b[0;34m)\u001b[0m\u001b[0;34m\u001b[0m\u001b[0;34m\u001b[0m\u001b[0m\n\u001b[0;32m--> 332\u001b[0;31m             \u001b[0my\u001b[0m \u001b[0;34m=\u001b[0m \u001b[0m_check_1d\u001b[0m\u001b[0;34m(\u001b[0m\u001b[0mtup\u001b[0m\u001b[0;34m[\u001b[0m\u001b[0;34m-\u001b[0m\u001b[0;36m1\u001b[0m\u001b[0;34m]\u001b[0m\u001b[0;34m)\u001b[0m\u001b[0;34m\u001b[0m\u001b[0;34m\u001b[0m\u001b[0m\n\u001b[0m\u001b[1;32m    333\u001b[0m         \u001b[0;32melse\u001b[0m\u001b[0;34m:\u001b[0m\u001b[0;34m\u001b[0m\u001b[0;34m\u001b[0m\u001b[0m\n\u001b[1;32m    334\u001b[0m             \u001b[0mx\u001b[0m\u001b[0;34m,\u001b[0m \u001b[0my\u001b[0m \u001b[0;34m=\u001b[0m \u001b[0mindex_of\u001b[0m\u001b[0;34m(\u001b[0m\u001b[0mtup\u001b[0m\u001b[0;34m[\u001b[0m\u001b[0;34m-\u001b[0m\u001b[0;36m1\u001b[0m\u001b[0;34m]\u001b[0m\u001b[0;34m)\u001b[0m\u001b[0;34m\u001b[0m\u001b[0;34m\u001b[0m\u001b[0m\n",
            "\u001b[0;32m/usr/local/lib/python3.7/dist-packages/matplotlib/cbook/__init__.py\u001b[0m in \u001b[0;36m_check_1d\u001b[0;34m(x)\u001b[0m\n\u001b[1;32m   1324\u001b[0m     '''\n\u001b[1;32m   1325\u001b[0m     \u001b[0;32mif\u001b[0m \u001b[0;32mnot\u001b[0m \u001b[0mhasattr\u001b[0m\u001b[0;34m(\u001b[0m\u001b[0mx\u001b[0m\u001b[0;34m,\u001b[0m \u001b[0;34m'shape'\u001b[0m\u001b[0;34m)\u001b[0m \u001b[0;32mor\u001b[0m \u001b[0mlen\u001b[0m\u001b[0;34m(\u001b[0m\u001b[0mx\u001b[0m\u001b[0;34m.\u001b[0m\u001b[0mshape\u001b[0m\u001b[0;34m)\u001b[0m \u001b[0;34m<\u001b[0m \u001b[0;36m1\u001b[0m\u001b[0;34m:\u001b[0m\u001b[0;34m\u001b[0m\u001b[0;34m\u001b[0m\u001b[0m\n\u001b[0;32m-> 1326\u001b[0;31m         \u001b[0;32mreturn\u001b[0m \u001b[0mnp\u001b[0m\u001b[0;34m.\u001b[0m\u001b[0matleast_1d\u001b[0m\u001b[0;34m(\u001b[0m\u001b[0mx\u001b[0m\u001b[0;34m)\u001b[0m\u001b[0;34m\u001b[0m\u001b[0;34m\u001b[0m\u001b[0m\n\u001b[0m\u001b[1;32m   1327\u001b[0m     \u001b[0;32melse\u001b[0m\u001b[0;34m:\u001b[0m\u001b[0;34m\u001b[0m\u001b[0;34m\u001b[0m\u001b[0m\n\u001b[1;32m   1328\u001b[0m         \u001b[0;32mtry\u001b[0m\u001b[0;34m:\u001b[0m\u001b[0;34m\u001b[0m\u001b[0;34m\u001b[0m\u001b[0m\n",
            "\u001b[0;32m<__array_function__ internals>\u001b[0m in \u001b[0;36matleast_1d\u001b[0;34m(*args, **kwargs)\u001b[0m\n",
            "\u001b[0;32m/usr/local/lib/python3.7/dist-packages/numpy/core/shape_base.py\u001b[0m in \u001b[0;36matleast_1d\u001b[0;34m(*arys)\u001b[0m\n\u001b[1;32m     63\u001b[0m     \u001b[0mres\u001b[0m \u001b[0;34m=\u001b[0m \u001b[0;34m[\u001b[0m\u001b[0;34m]\u001b[0m\u001b[0;34m\u001b[0m\u001b[0;34m\u001b[0m\u001b[0m\n\u001b[1;32m     64\u001b[0m     \u001b[0;32mfor\u001b[0m \u001b[0mary\u001b[0m \u001b[0;32min\u001b[0m \u001b[0marys\u001b[0m\u001b[0;34m:\u001b[0m\u001b[0;34m\u001b[0m\u001b[0;34m\u001b[0m\u001b[0m\n\u001b[0;32m---> 65\u001b[0;31m         \u001b[0mary\u001b[0m \u001b[0;34m=\u001b[0m \u001b[0masanyarray\u001b[0m\u001b[0;34m(\u001b[0m\u001b[0mary\u001b[0m\u001b[0;34m)\u001b[0m\u001b[0;34m\u001b[0m\u001b[0;34m\u001b[0m\u001b[0m\n\u001b[0m\u001b[1;32m     66\u001b[0m         \u001b[0;32mif\u001b[0m \u001b[0mary\u001b[0m\u001b[0;34m.\u001b[0m\u001b[0mndim\u001b[0m \u001b[0;34m==\u001b[0m \u001b[0;36m0\u001b[0m\u001b[0;34m:\u001b[0m\u001b[0;34m\u001b[0m\u001b[0;34m\u001b[0m\u001b[0m\n\u001b[1;32m     67\u001b[0m             \u001b[0mresult\u001b[0m \u001b[0;34m=\u001b[0m \u001b[0mary\u001b[0m\u001b[0;34m.\u001b[0m\u001b[0mreshape\u001b[0m\u001b[0;34m(\u001b[0m\u001b[0;36m1\u001b[0m\u001b[0;34m)\u001b[0m\u001b[0;34m\u001b[0m\u001b[0;34m\u001b[0m\u001b[0m\n",
            "\u001b[0;32m/usr/local/lib/python3.7/dist-packages/torch/_tensor.py\u001b[0m in \u001b[0;36m__array__\u001b[0;34m(self, dtype)\u001b[0m\n\u001b[1;32m    730\u001b[0m             \u001b[0;32mreturn\u001b[0m \u001b[0mhandle_torch_function\u001b[0m\u001b[0;34m(\u001b[0m\u001b[0mTensor\u001b[0m\u001b[0;34m.\u001b[0m\u001b[0m__array__\u001b[0m\u001b[0;34m,\u001b[0m \u001b[0;34m(\u001b[0m\u001b[0mself\u001b[0m\u001b[0;34m,\u001b[0m\u001b[0;34m)\u001b[0m\u001b[0;34m,\u001b[0m \u001b[0mself\u001b[0m\u001b[0;34m,\u001b[0m \u001b[0mdtype\u001b[0m\u001b[0;34m=\u001b[0m\u001b[0mdtype\u001b[0m\u001b[0;34m)\u001b[0m\u001b[0;34m\u001b[0m\u001b[0;34m\u001b[0m\u001b[0m\n\u001b[1;32m    731\u001b[0m         \u001b[0;32mif\u001b[0m \u001b[0mdtype\u001b[0m \u001b[0;32mis\u001b[0m \u001b[0;32mNone\u001b[0m\u001b[0;34m:\u001b[0m\u001b[0;34m\u001b[0m\u001b[0;34m\u001b[0m\u001b[0m\n\u001b[0;32m--> 732\u001b[0;31m             \u001b[0;32mreturn\u001b[0m \u001b[0mself\u001b[0m\u001b[0;34m.\u001b[0m\u001b[0mnumpy\u001b[0m\u001b[0;34m(\u001b[0m\u001b[0;34m)\u001b[0m\u001b[0;34m\u001b[0m\u001b[0;34m\u001b[0m\u001b[0m\n\u001b[0m\u001b[1;32m    733\u001b[0m         \u001b[0;32melse\u001b[0m\u001b[0;34m:\u001b[0m\u001b[0;34m\u001b[0m\u001b[0;34m\u001b[0m\u001b[0m\n\u001b[1;32m    734\u001b[0m             \u001b[0;32mreturn\u001b[0m \u001b[0mself\u001b[0m\u001b[0;34m.\u001b[0m\u001b[0mnumpy\u001b[0m\u001b[0;34m(\u001b[0m\u001b[0;34m)\u001b[0m\u001b[0;34m.\u001b[0m\u001b[0mastype\u001b[0m\u001b[0;34m(\u001b[0m\u001b[0mdtype\u001b[0m\u001b[0;34m,\u001b[0m \u001b[0mcopy\u001b[0m\u001b[0;34m=\u001b[0m\u001b[0;32mFalse\u001b[0m\u001b[0;34m)\u001b[0m\u001b[0;34m\u001b[0m\u001b[0;34m\u001b[0m\u001b[0m\n",
            "\u001b[0;31mRuntimeError\u001b[0m: Can't call numpy() on Tensor that requires grad. Use tensor.detach().numpy() instead."
          ]
        },
        {
          "output_type": "display_data",
          "data": {
            "text/plain": [
              "<Figure size 432x288 with 1 Axes>"
            ],
            "image/png": "[encoded data removed]"
          },
          "metadata": {
            "needs_background": "light"
          }
        }
      ]
    }
  ]
}